{
 "cells": [
  {
   "cell_type": "markdown",
   "id": "266ead4b-b37d-46f1-b715-19939d6d4f40",
   "metadata": {},
   "source": [
    "# **FITS to HDF5**"
   ]
  },
  {
   "cell_type": "code",
   "execution_count": 1,
   "id": "b3df81e7-56ea-48f9-a22f-c8463b6615fa",
   "metadata": {},
   "outputs": [],
   "source": [
    "# 3rd party # remove imports that are not needed\n",
    "import numpy as np\n",
    "import pandas as pd\n",
    "import h5py\n",
    "import astropy.table"
   ]
  },
  {
   "cell_type": "code",
   "execution_count": 2,
   "id": "e00b309c-6230-46c7-b0f7-2b8ad78bd2e4",
   "metadata": {},
   "outputs": [],
   "source": [
    "data=astropy.table.Table.read('/data/des90.a/data/raulteix/data/BOSSDELVE/BOSSDELVEwpxs.fits', format='fits')"
   ]
  },
  {
   "cell_type": "code",
   "execution_count": 3,
   "id": "9185b5c1-4285-47f9-9398-f4b566cbef79",
   "metadata": {},
   "outputs": [],
   "source": [
    "# creating mask\n",
    "mask1 = (data['MAG_AUTO_G']!=99) * (data['MAG_AUTO_R']!=99) * (data['MAG_AUTO_I']!=99) * (data['MAG_AUTO_Z']!=99)\n",
    "mask2 = (data['MAG_AUTO_G']!=99) * (data['MAG_AUTO_R']!=99) * (data['MAG_AUTO_I']!=99) \n",
    "mask3 = (data['MAG_AUTO_G']!=99) * (data['MAG_AUTO_R']!=99) * (data['MAG_AUTO_Z']!=99)\n",
    "mask4 = (data['MAG_AUTO_G']!=99) * (data['MAG_AUTO_I']!=99) * (data['MAG_AUTO_Z']!=99)\n",
    "mask5 = (data['MAG_AUTO_R']!=99) * (data['MAG_AUTO_I']!=99) * (data['MAG_AUTO_Z']!=99)\n",
    "\n",
    "mask = mask1 + mask2 + mask3 + mask4 + mask5"
   ]
  },
  {
   "cell_type": "code",
   "execution_count": 11,
   "id": "4c9dfb6f-8d88-4adb-8e53-52c4593b775e",
   "metadata": {},
   "outputs": [],
   "source": [
    "bandlist = ['G', 'R', 'I', 'Z']\n",
    "for band in bandlist:\n",
    "    data[f'MAG_AUTO_{band}'][data[f'MAG_AUTO_{band}']==99]=-99\n",
    "    data[f'MAGERR_AUTO_{band}'][data[f'MAG_AUTO_{band}']==99]=0"
   ]
  },
  {
   "cell_type": "code",
   "execution_count": 12,
   "id": "af28b2d4-e154-4433-adaf-519597c6a947",
   "metadata": {},
   "outputs": [],
   "source": [
    "#creating the table to be converted\n",
    "table = data[mask]['QUICK_OBJECT_ID', 'MAG_AUTO_G', 'MAG_AUTO_R', 'MAG_AUTO_I', 'MAG_AUTO_Z', 'MAGERR_AUTO_G', 'MAGERR_AUTO_R', 'MAGERR_AUTO_I', 'MAGERR_AUTO_Z'] #[tab_all['extended_class']>1]\n",
    "\n",
    "#converting to pandas dataframe\n",
    "dframe = pd.DataFrame(data=table['QUICK_OBJECT_ID'], columns = ['QUICK_OBJECT_ID'])\n",
    "for label in table.columns:\n",
    "        dframe[label] = table[label]"
   ]
  },
  {
   "cell_type": "code",
   "execution_count": 13,
   "id": "0248e999-1773-4f7f-afb8-3b13cc3f9df4",
   "metadata": {},
   "outputs": [],
   "source": [
    "#creating hdf5 file from pandas dataframe\n",
    "n = len(dframe) "
   ]
  },
  {
   "cell_type": "code",
   "execution_count": 16,
   "id": "306f1820-d7ec-4d9a-bf17-dce2b0f4a088",
   "metadata": {},
   "outputs": [
    {
     "data": {
      "text/plain": [
       "801489"
      ]
     },
     "execution_count": 16,
     "metadata": {},
     "output_type": "execute_result"
    }
   ],
   "source": [
    "n"
   ]
  },
  {
   "cell_type": "code",
   "execution_count": 14,
   "id": "20f9777c-d296-482e-8338-89765f5c00af",
   "metadata": {},
   "outputs": [
    {
     "data": {
      "text/plain": [
       "441444"
      ]
     },
     "execution_count": 14,
     "metadata": {},
     "output_type": "execute_result"
    }
   ],
   "source": [
    "np.sum(mask1)"
   ]
  },
  {
   "cell_type": "code",
   "execution_count": 15,
   "id": "bdf35274-befd-41a7-a565-f9709dc2f9c1",
   "metadata": {},
   "outputs": [],
   "source": [
    "# 39 is just a particularly nice divisor of n in this case!\n",
    "for i in range(39):\n",
    "    dframe_i = dframe[(i*20551):(i+1)*20551]\n",
    "    dframe_i.to_hdf(f'/data/des90.a/data/raulteix/data/BOSSDELVE/bpzparallelBOSSDELVEdata/input/DELVEBOSSmatched{i}.h5', key='df')"
   ]
  }
 ],
 "metadata": {
  "kernelspec": {
   "display_name": "Python 3 (ipykernel)",
   "language": "python",
   "name": "python3"
  },
  "language_info": {
   "codemirror_mode": {
    "name": "ipython",
    "version": 3
   },
   "file_extension": ".py",
   "mimetype": "text/x-python",
   "name": "python",
   "nbconvert_exporter": "python",
   "pygments_lexer": "ipython3",
   "version": "3.10.2"
  }
 },
 "nbformat": 4,
 "nbformat_minor": 5
}
