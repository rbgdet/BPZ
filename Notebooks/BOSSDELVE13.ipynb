{
 "cells": [
  {
   "cell_type": "code",
   "execution_count": 1,
   "id": "abc39454-b000-4613-9ceb-814310afa2d3",
   "metadata": {},
   "outputs": [],
   "source": [
    "import numpy as np\n",
    "import pandas as pd\n",
    "import pylab as plt\n",
    "import h5py\n",
    "import matplotlib\n",
    "%matplotlib inline\n",
    "from astropy.utils.data import download_file  #import file from URL\n",
    "from matplotlib.ticker import NullFormatter\n",
    "import astropy.table\n",
    "import subprocess as sp\n",
    "import glob\n",
    "import healpy as hp"
   ]
  },
  {
   "cell_type": "code",
   "execution_count": 2,
   "id": "83ff9ed2-e53e-4029-b667-45b1382ec05b",
   "metadata": {},
   "outputs": [],
   "source": [
    "flist = glob.glob('/data/des91.b/data/kadrlica/projects/delve/cat/y3t1/v1/cat/cat*.fits')\n",
    "#generates list of filenames in the directory above\n",
    "\n",
    "pxnums = [] #initiates pxnums (see below)\n",
    "\n",
    "for fname in flist:                                         #generates list of ints (pxnums)\n",
    "    pxnums.append(int(fname.split('.')[1].split('_')[-1])) #containing pixel numbers\n",
    "    \n",
    "pxnums = np.array(pxnums) #converts pxnums to array\n",
    "\n",
    "ra, dec = hp.pix2ang(32, pxnums, lonlat=True) #gets the right ascension and declination\n",
    "                                              #of each pixel in two arrays"
   ]
  },
  {
   "cell_type": "code",
   "execution_count": 3,
   "id": "e1247e00-959b-4446-af2d-069e04260a60",
   "metadata": {},
   "outputs": [],
   "source": [
    "data_boss_north = astropy.table.Table.read('/data/des90.a/data/raulteix/data/speczs/galaxy_DR12v5_CMASSLOWZTOT_North.fits.gz')\n",
    "#BOSS data for the northern hemisphere\n",
    "\n",
    "data_boss_south = astropy.table.Table.read('/data/des90.a/data/raulteix/data/speczs/galaxy_DR12v5_CMASSLOWZTOT_South.fits.gz')\n",
    "#BOSS data for the southern hemisphere\n",
    "\n",
    "data_boss_all = astropy.table.vstack([data_boss_north, data_boss_south])\n",
    "#vertical stacking of previous two tables\n",
    "\n",
    "pxnums_boss = hp.ang2pix(32, data_boss_all['RA'], data_boss_all['DEC'], lonlat=True)\n",
    "#array of pixel numbers (with repetition for objects in the same pixel!)\n",
    "\n",
    "overlap_boss_delve = np.in1d(pxnums_boss, pxnums)\n",
    "#boolean array mask for overlapping pixels in BOSS \n"
   ]
  },
  {
   "cell_type": "code",
   "execution_count": 4,
   "id": "188c041d-9ef0-4d55-95e6-d6f403aaea2c",
   "metadata": {},
   "outputs": [],
   "source": [
    "data_boss_good = data_boss_all[overlap_boss_delve]\n",
    "\n",
    "#all the objects in BOSS that are in pixels also present in DELVE DR2\n"
   ]
  },
  {
   "cell_type": "code",
   "execution_count": 5,
   "id": "a73868f8-f634-432c-b99a-91c70dec678d",
   "metadata": {},
   "outputs": [],
   "source": [
    "px_overlap = np.unique(pxnums_boss[overlap_boss_delve])\n",
    "\n",
    "#all the pixels present in both catalogs"
   ]
  },
  {
   "cell_type": "code",
   "execution_count": 6,
   "id": "3cf37f78-5c55-4aac-9c8b-277551f2ac00",
   "metadata": {},
   "outputs": [],
   "source": [
    "def pixelstyle(pixel):\n",
    "    if pixel < 10000: return f'0{pixel}' #formats pixel such that they always have 5 digits\n",
    "    else: return f'{pixel}'"
   ]
  },
  {
   "cell_type": "code",
   "execution_count": 7,
   "id": "d7ce261f-03fa-437a-909f-095a031629d1",
   "metadata": {},
   "outputs": [],
   "source": [
    "#here we will create a single Astropy Table of the first 800 pixels\n",
    "\n",
    "dr2_all = []\n",
    "for pixel in pxnums[6500:7000]: #parallelization\n",
    "    dr2_i = astropy.table.Table.read(f'/data/des91.b/data/kadrlica/projects/delve/cat/y3t1/v1/cat/cat_hpx_{pixelstyle(pixel)}.fits')\n",
    "    bandlist = ['G', 'R', 'I', 'Z']\n",
    "    for band in bandlist:\n",
    "        dr2_i[f'EXTENDED_CLASS_{band}'] = (1.0*((dr2_i[f'SPREAD_MODEL_{band}'] + 3*dr2_i[f'SPREADERR_MODEL_{band}']) > 0.005) \n",
    "        + 1.0*((dr2_i[f'SPREAD_MODEL_{band}'] + dr2_i[f'SPREADERR_MODEL_{band}']) > 0.003) \n",
    "        + 1.0*((dr2_i[f'SPREAD_MODEL_{band}'] - dr2_i[f'SPREADERR_MODEL_{band}']) > 0.003))\n",
    "    dr2_i_f = dr2_i[dr2_i['EXTENDED_CLASS_G']>1] #filtering out likely stars\n",
    "    dr2_all.append(dr2_i_f)\n",
    "dr2_all = astropy.table.vstack(dr2_all)"
   ]
  },
  {
   "cell_type": "code",
   "execution_count": 8,
   "id": "ff9dd7a0-acfd-49d1-87b4-eb21459be58b",
   "metadata": {},
   "outputs": [],
   "source": [
    "data=dr2_all"
   ]
  },
  {
   "cell_type": "code",
   "execution_count": 9,
   "id": "113ebe48-ea60-4bca-a520-4ff4e56a1241",
   "metadata": {},
   "outputs": [
    {
     "data": {
      "text/html": [
       "<div><i>Table length=32279808</i>\n",
       "<table id=\"table139823461525312\" class=\"table-striped table-bordered table-condensed\">\n",
       "<thead><tr><th>QUICK_OBJECT_ID</th><th>RA</th><th>DEC</th><th>HPX2048</th><th>NEPOCHS_G</th><th>NEPOCHS_R</th><th>NEPOCHS_I</th><th>NEPOCHS_Z</th><th>MAG_PSF_G</th><th>MAG_PSF_R</th><th>MAG_PSF_I</th><th>MAG_PSF_Z</th><th>MAGERR_PSF_G</th><th>MAGERR_PSF_R</th><th>MAGERR_PSF_I</th><th>MAGERR_PSF_Z</th><th>MAG_AUTO_G</th><th>MAG_AUTO_R</th><th>MAG_AUTO_I</th><th>MAG_AUTO_Z</th><th>MAGERR_AUTO_G</th><th>MAGERR_AUTO_R</th><th>MAGERR_AUTO_I</th><th>MAGERR_AUTO_Z</th><th>SPREAD_MODEL_G</th><th>SPREAD_MODEL_R</th><th>SPREAD_MODEL_I</th><th>SPREAD_MODEL_Z</th><th>SPREADERR_MODEL_G</th><th>SPREADERR_MODEL_R</th><th>SPREADERR_MODEL_I</th><th>SPREADERR_MODEL_Z</th><th>CLASS_STAR_G</th><th>CLASS_STAR_R</th><th>CLASS_STAR_I</th><th>CLASS_STAR_Z</th><th>FLAGS_G</th><th>FLAGS_R</th><th>FLAGS_I</th><th>FLAGS_Z</th><th>WAVG_MAG_PSF_G</th><th>WAVG_MAG_PSF_R</th><th>WAVG_MAG_PSF_I</th><th>WAVG_MAG_PSF_Z</th><th>WAVG_MAGERR_PSF_G</th><th>WAVG_MAGERR_PSF_R</th><th>WAVG_MAGERR_PSF_I</th><th>WAVG_MAGERR_PSF_Z</th><th>WAVG_MAGRMS_PSF_G</th><th>WAVG_MAGRMS_PSF_R</th><th>WAVG_MAGRMS_PSF_I</th><th>WAVG_MAGRMS_PSF_Z</th><th>WAVG_MAG_AUTO_G</th><th>WAVG_MAG_AUTO_R</th><th>WAVG_MAG_AUTO_I</th><th>WAVG_MAG_AUTO_Z</th><th>WAVG_MAGERR_AUTO_G</th><th>WAVG_MAGERR_AUTO_R</th><th>WAVG_MAGERR_AUTO_I</th><th>WAVG_MAGERR_AUTO_Z</th><th>WAVG_MAGRMS_AUTO_G</th><th>WAVG_MAGRMS_AUTO_R</th><th>WAVG_MAGRMS_AUTO_I</th><th>WAVG_MAGRMS_AUTO_Z</th><th>WAVG_SPREAD_MODEL_G</th><th>WAVG_SPREAD_MODEL_R</th><th>WAVG_SPREAD_MODEL_I</th><th>WAVG_SPREAD_MODEL_Z</th><th>WAVG_SPREADERR_MODEL_G</th><th>WAVG_SPREADERR_MODEL_R</th><th>WAVG_SPREADERR_MODEL_I</th><th>WAVG_SPREADERR_MODEL_Z</th><th>WAVG_SPREADRMS_MODEL_G</th><th>WAVG_SPREADRMS_MODEL_R</th><th>WAVG_SPREADRMS_MODEL_I</th><th>WAVG_SPREADRMS_MODEL_Z</th><th>WAVG_FLAGS_G</th><th>WAVG_FLAGS_R</th><th>WAVG_FLAGS_I</th><th>WAVG_FLAGS_Z</th><th>EXPNUM_G</th><th>EXPNUM_R</th><th>EXPNUM_I</th><th>EXPNUM_Z</th><th>CCDNUM_G</th><th>CCDNUM_R</th><th>CCDNUM_I</th><th>CCDNUM_Z</th><th>T_EFF_G</th><th>T_EFF_R</th><th>T_EFF_I</th><th>T_EFF_Z</th><th>EXPTIME_G</th><th>EXPTIME_R</th><th>EXPTIME_I</th><th>EXPTIME_Z</th><th>A_IMAGE_G</th><th>A_IMAGE_R</th><th>A_IMAGE_I</th><th>A_IMAGE_Z</th><th>B_IMAGE_G</th><th>B_IMAGE_R</th><th>B_IMAGE_I</th><th>B_IMAGE_Z</th><th>THETA_IMAGE_G</th><th>THETA_IMAGE_R</th><th>THETA_IMAGE_I</th><th>THETA_IMAGE_Z</th><th>EBV</th><th>EXTINCTION_G</th><th>EXTINCTION_R</th><th>EXTINCTION_I</th><th>EXTINCTION_Z</th><th>EXTENDED_CLASS_G</th><th>EXTENDED_CLASS_R</th><th>EXTENDED_CLASS_I</th><th>EXTENDED_CLASS_Z</th></tr></thead>\n",
       "<thead><tr><th>int64</th><th>float64</th><th>float64</th><th>int64</th><th>int16</th><th>int16</th><th>int16</th><th>int16</th><th>float32</th><th>float32</th><th>float32</th><th>float32</th><th>float32</th><th>float32</th><th>float32</th><th>float32</th><th>float32</th><th>float32</th><th>float32</th><th>float32</th><th>float32</th><th>float32</th><th>float32</th><th>float32</th><th>float32</th><th>float32</th><th>float32</th><th>float32</th><th>float32</th><th>float32</th><th>float32</th><th>float32</th><th>float32</th><th>float32</th><th>float32</th><th>float32</th><th>int16</th><th>int16</th><th>int16</th><th>int16</th><th>float32</th><th>float32</th><th>float32</th><th>float32</th><th>float32</th><th>float32</th><th>float32</th><th>float32</th><th>float32</th><th>float32</th><th>float32</th><th>float32</th><th>float32</th><th>float32</th><th>float32</th><th>float32</th><th>float32</th><th>float32</th><th>float32</th><th>float32</th><th>float32</th><th>float32</th><th>float32</th><th>float32</th><th>float32</th><th>float32</th><th>float32</th><th>float32</th><th>float32</th><th>float32</th><th>float32</th><th>float32</th><th>float32</th><th>float32</th><th>float32</th><th>float32</th><th>int16</th><th>int16</th><th>int16</th><th>int16</th><th>int32</th><th>int32</th><th>int32</th><th>int32</th><th>int32</th><th>int32</th><th>int32</th><th>int32</th><th>float32</th><th>float32</th><th>float32</th><th>float32</th><th>float32</th><th>float32</th><th>float32</th><th>float32</th><th>float32</th><th>float32</th><th>float32</th><th>float32</th><th>float32</th><th>float32</th><th>float32</th><th>float32</th><th>float32</th><th>float32</th><th>float32</th><th>float32</th><th>float32</th><th>float32</th><th>float32</th><th>float32</th><th>float32</th><th>float64</th><th>float64</th><th>float64</th><th>float64</th></tr></thead>\n",
       "<tr><td>10748900000000</td><td>3.298231943541636</td><td>-12.556033626473209</td><td>17595771</td><td>2</td><td>0</td><td>0</td><td>0</td><td>18.46111</td><td>99.0</td><td>99.0</td><td>99.0</td><td>0.0029021911</td><td>99.0</td><td>99.0</td><td>99.0</td><td>17.432556</td><td>99.0</td><td>99.0</td><td>99.0</td><td>0.002375612</td><td>99.0</td><td>99.0</td><td>99.0</td><td>0.0063477373</td><td>-1.0</td><td>-1.0</td><td>-1.0</td><td>0.00013443024</td><td>1.0</td><td>1.0</td><td>1.0</td><td>0.029664755</td><td>-1.0</td><td>-1.0</td><td>-1.0</td><td>3</td><td>99</td><td>99</td><td>99</td><td>18.292326</td><td>99.0</td><td>99.0</td><td>99.0</td><td>0.0017695251</td><td>99.0</td><td>99.0</td><td>99.0</td><td>0.17747532</td><td>99.0</td><td>99.0</td><td>99.0</td><td>17.319275</td><td>99.0</td><td>99.0</td><td>99.0</td><td>0.0014757162</td><td>99.0</td><td>99.0</td><td>99.0</td><td>0.12364064</td><td>99.0</td><td>99.0</td><td>99.0</td><td>0.011520251</td><td>-1.0</td><td>-1.0</td><td>-1.0</td><td>8.329008e-05</td><td>1.0</td><td>1.0</td><td>1.0</td><td>0.0056161555</td><td>1.0</td><td>1.0</td><td>1.0</td><td>3</td><td>99</td><td>99</td><td>99</td><td>770012</td><td>-1</td><td>-1</td><td>-1</td><td>26</td><td>-1</td><td>-1</td><td>-1</td><td>0.648166</td><td>-1.0</td><td>-1.0</td><td>-1.0</td><td>83.0</td><td>-1.0</td><td>-1.0</td><td>-1.0</td><td>7.6646175</td><td>-1.0</td><td>-1.0</td><td>-1.0</td><td>4.879676</td><td>-1.0</td><td>-1.0</td><td>-1.0</td><td>-58.632526</td><td>-1.0</td><td>-1.0</td><td>-1.0</td><td>0.031140175</td><td>0.0992126</td><td>0.066639975</td><td>0.048858937</td><td>0.03724365</td><td>3.0</td><td>1.0</td><td>1.0</td><td>1.0</td></tr>\n",
       "<tr><td>10748900000001</td><td>3.2953000030678035</td><td>-12.57557478781456</td><td>17595768</td><td>2</td><td>1</td><td>0</td><td>0</td><td>23.71661</td><td>22.559744</td><td>99.0</td><td>99.0</td><td>0.13478708</td><td>0.09432012</td><td>99.0</td><td>99.0</td><td>23.02198</td><td>22.057152</td><td>99.0</td><td>99.0</td><td>0.14557356</td><td>0.11083797</td><td>99.0</td><td>99.0</td><td>0.013921993</td><td>0.01710547</td><td>-1.0</td><td>-1.0</td><td>0.005287032</td><td>0.004468336</td><td>1.0</td><td>1.0</td><td>0.48731008</td><td>0.54112935</td><td>-1.0</td><td>-1.0</td><td>0</td><td>0</td><td>99</td><td>99</td><td>23.326736</td><td>22.559742</td><td>99.0</td><td>99.0</td><td>0.08235787</td><td>0.09432012</td><td>99.0</td><td>99.0</td><td>0.4117012</td><td>0.09432012</td><td>99.0</td><td>99.0</td><td>23.046225</td><td>22.057152</td><td>99.0</td><td>99.0</td><td>0.09132877</td><td>0.11083797</td><td>99.0</td><td>99.0</td><td>0.026990168</td><td>0.11083797</td><td>99.0</td><td>99.0</td><td>0.0083306795</td><td>0.01710547</td><td>-1.0</td><td>-1.0</td><td>0.003200379</td><td>0.004468336</td><td>1.0</td><td>1.0</td><td>0.00579479</td><td>0.004468336</td><td>1.0</td><td>1.0</td><td>2</td><td>0</td><td>99</td><td>99</td><td>772292</td><td>768708</td><td>-1</td><td>-1</td><td>44</td><td>32</td><td>-1</td><td>-1</td><td>0.97666</td><td>0.419126</td><td>-1.0</td><td>-1.0</td><td>60.0</td><td>59.0</td><td>-1.0</td><td>-1.0</td><td>1.5550553</td><td>2.0736136</td><td>-1.0</td><td>-1.0</td><td>0.6394862</td><td>0.97934914</td><td>-1.0</td><td>-1.0</td><td>-48.51075</td><td>-62.525604</td><td>-1.0</td><td>-1.0</td><td>0.031035064</td><td>0.09887771</td><td>0.066415034</td><td>0.048694015</td><td>0.037117936</td><td>3.0</td><td>3.0</td><td>1.0</td><td>1.0</td></tr>\n",
       "<tr><td>10748900000002</td><td>3.3051222775575533</td><td>-12.575056026934647</td><td>17595768</td><td>3</td><td>2</td><td>0</td><td>3</td><td>20.77826</td><td>20.562243</td><td>99.0</td><td>20.090961</td><td>0.014105496</td><td>0.015051743</td><td>99.0</td><td>0.013731505</td><td>20.43821</td><td>20.054535</td><td>99.0</td><td>19.860703</td><td>0.020627877</td><td>0.019837826</td><td>99.0</td><td>0.020035008</td><td>0.011935928</td><td>0.01587553</td><td>-1.0</td><td>0.011010718</td><td>0.00058054086</td><td>0.0006870665</td><td>1.0</td><td>0.00060999463</td><td>0.034535374</td><td>0.03098184</td><td>-1.0</td><td>0.053706497</td><td>0</td><td>0</td><td>99</td><td>0</td><td>20.740917</td><td>20.395618</td><td>99.0</td><td>20.085356</td><td>0.0075838193</td><td>0.010334014</td><td>99.0</td><td>0.013012061</td><td>0.15694845</td><td>0.22214964</td><td>99.0</td><td>0.030972933</td><td>20.401642</td><td>20.042917</td><td>99.0</td><td>19.85458</td><td>0.010771871</td><td>0.015144951</td><td>99.0</td><td>0.020755393</td><td>0.05129842</td><td>0.019151527</td><td>99.0</td><td>0.055503376</td><td>0.010857069</td><td>0.010801776</td><td>-1.0</td><td>0.010216111</td><td>0.00033302765</td><td>0.00044924518</td><td>1.0</td><td>0.0005252101</td><td>0.004836959</td><td>0.0061354097</td><td>1.0</td><td>0.001667517</td><td>0</td><td>0</td><td>99</td><td>0</td><td>690517</td><td>772291</td><td>-1</td><td>783893</td><td>38</td><td>44</td><td>-1</td><td>32</td><td>0.6512</td><td>0.865305</td><td>-1.0</td><td>0.47798</td><td>113.0</td><td>42.0</td><td>-1.0</td><td>227.0</td><td>2.9402401</td><td>2.6533036</td><td>-1.0</td><td>2.9784026</td><td>2.6757474</td><td>2.3790424</td><td>-1.0</td><td>2.7129023</td><td>-59.149654</td><td>-49.353104</td><td>-1.0</td><td>-42.370594</td><td>0.031161798</td><td>0.09928149</td><td>0.06668625</td><td>0.048892863</td><td>0.03726951</td><td>3.0</td><td>3.0</td><td>1.0</td><td>3.0</td></tr>\n",
       "<tr><td>10748900000003</td><td>3.307892368520124</td><td>-12.572168221752136</td><td>17595768</td><td>2</td><td>1</td><td>0</td><td>2</td><td>22.440037</td><td>20.675348</td><td>99.0</td><td>19.449865</td><td>0.044800155</td><td>0.016406389</td><td>99.0</td><td>0.007884349</td><td>21.087059</td><td>19.476849</td><td>99.0</td><td>18.679165</td><td>0.052557647</td><td>0.021725781</td><td>99.0</td><td>0.012079238</td><td>0.015849547</td><td>0.013580267</td><td>-1.0</td><td>0.013580731</td><td>0.002033505</td><td>0.00073571084</td><td>1.0</td><td>0.00035742536</td><td>0.10738705</td><td>0.027629253</td><td>-1.0</td><td>0.028286869</td><td>2</td><td>0</td><td>99</td><td>0</td><td>22.020065</td><td>20.675348</td><td>99.0</td><td>19.41643</td><td>0.026855428</td><td>0.016406389</td><td>99.0</td><td>0.0077582807</td><td>0.42684442</td><td>0.016406389</td><td>99.0</td><td>0.09157128</td><td>20.937197</td><td>19.476849</td><td>99.0</td><td>18.685616</td><td>0.031990603</td><td>0.021725781</td><td>99.0</td><td>0.0116894785</td><td>0.15703984</td><td>0.021725781</td><td>99.0</td><td>0.01708667</td><td>0.019318685</td><td>0.013580267</td><td>-1.0</td><td>0.013102141</td><td>0.0012209058</td><td>0.00073571084</td><td>1.0</td><td>0.00033535308</td><td>0.0035370428</td><td>0.00073571084</td><td>1.0</td><td>0.001191633</td><td>2</td><td>0</td><td>99</td><td>0</td><td>772292</td><td>772291</td><td>-1</td><td>783893</td><td>44</td><td>44</td><td>-1</td><td>32</td><td>0.97666</td><td>0.865305</td><td>-1.0</td><td>0.47798</td><td>60.0</td><td>42.0</td><td>-1.0</td><td>227.0</td><td>2.7811022</td><td>4.954447</td><td>-1.0</td><td>5.3748884</td><td>2.1603734</td><td>3.566947</td><td>-1.0</td><td>4.17281</td><td>54.51459</td><td>-19.342909</td><td>-1.0</td><td>-22.385935</td><td>0.031204145</td><td>0.099416405</td><td>0.06677687</td><td>0.048959304</td><td>0.037320156</td><td>3.0</td><td>3.0</td><td>1.0</td><td>3.0</td></tr>\n",
       "<tr><td>10748900000004</td><td>3.3070784342609896</td><td>-12.488869008734099</td><td>17595861</td><td>1</td><td>0</td><td>0</td><td>0</td><td>22.998915</td><td>99.0</td><td>99.0</td><td>99.0</td><td>0.08298396</td><td>99.0</td><td>99.0</td><td>99.0</td><td>22.860403</td><td>99.0</td><td>99.0</td><td>99.0</td><td>0.11572774</td><td>99.0</td><td>99.0</td><td>99.0</td><td>0.00295247</td><td>-1.0</td><td>-1.0</td><td>-1.0</td><td>0.0031253926</td><td>1.0</td><td>1.0</td><td>1.0</td><td>0.44394833</td><td>-1.0</td><td>-1.0</td><td>-1.0</td><td>0</td><td>99</td><td>99</td><td>99</td><td>22.998915</td><td>99.0</td><td>99.0</td><td>99.0</td><td>0.08298396</td><td>99.0</td><td>99.0</td><td>99.0</td><td>0.08298396</td><td>99.0</td><td>99.0</td><td>99.0</td><td>22.860403</td><td>99.0</td><td>99.0</td><td>99.0</td><td>0.11572774</td><td>99.0</td><td>99.0</td><td>99.0</td><td>0.11572774</td><td>99.0</td><td>99.0</td><td>99.0</td><td>0.00295247</td><td>-1.0</td><td>-1.0</td><td>-1.0</td><td>0.0031253926</td><td>1.0</td><td>1.0</td><td>1.0</td><td>0.0031253926</td><td>1.0</td><td>1.0</td><td>1.0</td><td>0</td><td>99</td><td>99</td><td>99</td><td>661286</td><td>-1</td><td>-1</td><td>-1</td><td>32</td><td>-1</td><td>-1</td><td>-1</td><td>0.244289</td><td>-1.0</td><td>-1.0</td><td>-1.0</td><td>200.0</td><td>-1.0</td><td>-1.0</td><td>-1.0</td><td>1.8182319</td><td>-1.0</td><td>-1.0</td><td>-1.0</td><td>1.3003706</td><td>-1.0</td><td>-1.0</td><td>-1.0</td><td>16.92407</td><td>-1.0</td><td>-1.0</td><td>-1.0</td><td>0.031468257</td><td>0.100257866</td><td>0.067342065</td><td>0.049373694</td><td>0.037636034</td><td>2.0</td><td>1.0</td><td>1.0</td><td>1.0</td></tr>\n",
       "<tr><td>10748900000005</td><td>3.3079550056661624</td><td>-12.552655527782875</td><td>17595769</td><td>2</td><td>1</td><td>0</td><td>2</td><td>23.63929</td><td>22.925314</td><td>99.0</td><td>21.609955</td><td>0.123372205</td><td>0.11964533</td><td>99.0</td><td>0.053450745</td><td>22.801691</td><td>21.865475</td><td>99.0</td><td>20.993141</td><td>0.13656054</td><td>0.101010084</td><td>99.0</td><td>0.07653423</td><td>0.020740049</td><td>0.020316156</td><td>-1.0</td><td>0.016271265</td><td>0.0053375065</td><td>0.0049923384</td><td>1.0</td><td>0.0024070665</td><td>0.6299925</td><td>0.39766115</td><td>-1.0</td><td>0.020871446</td><td>0</td><td>2</td><td>99</td><td>0</td><td>23.340796</td><td>22.925314</td><td>99.0</td><td>21.677208</td><td>0.07887426</td><td>0.11964533</td><td>99.0</td><td>0.060641825</td><td>0.34507817</td><td>0.11964533</td><td>99.0</td><td>0.24484824</td><td>23.009752</td><td>21.865475</td><td>99.0</td><td>21.092243</td><td>0.090365626</td><td>0.101010084</td><td>99.0</td><td>0.072557345</td><td>0.2576865</td><td>0.101010084</td><td>99.0</td><td>0.25193027</td><td>0.012574303</td><td>0.020316156</td><td>-1.0</td><td>0.015638784</td><td>0.0032781062</td><td>0.0049923384</td><td>1.0</td><td>0.0025419863</td><td>0.008711844</td><td>0.004992338</td><td>1.0</td><td>0.0019950916</td><td>0</td><td>2</td><td>99</td><td>0</td><td>770012</td><td>770011</td><td>-1</td><td>783893</td><td>26</td><td>26</td><td>-1</td><td>32</td><td>0.648166</td><td>0.644267</td><td>-1.0</td><td>0.47798</td><td>83.0</td><td>40.0</td><td>-1.0</td><td>227.0</td><td>1.6556239</td><td>1.5142057</td><td>-1.0</td><td>2.699599</td><td>1.0097375</td><td>0.8815578</td><td>-1.0</td><td>1.7977747</td><td>-35.193176</td><td>-87.01972</td><td>-1.0</td><td>-74.441376</td><td>0.03129249</td><td>0.09969787</td><td>0.06696593</td><td>0.049097918</td><td>0.037425816</td><td>3.0</td><td>3.0</td><td>1.0</td><td>3.0</td></tr>\n",
       "<tr><td>10748900000006</td><td>3.3091904141487567</td><td>-12.5784986337801</td><td>17595768</td><td>2</td><td>2</td><td>0</td><td>1</td><td>23.340498</td><td>22.539528</td><td>99.0</td><td>21.995344</td><td>0.096299075</td><td>0.07407023</td><td>99.0</td><td>0.076059565</td><td>22.705013</td><td>22.103674</td><td>99.0</td><td>21.662312</td><td>0.123247735</td><td>0.09872762</td><td>99.0</td><td>0.116886474</td><td>0.019151209</td><td>0.011094063</td><td>-1.0</td><td>0.011567581</td><td>0.004332027</td><td>0.0031203139</td><td>1.0</td><td>0.0033433365</td><td>0.5880195</td><td>0.08595789</td><td>-1.0</td><td>0.5172813</td><td>2</td><td>0</td><td>99</td><td>0</td><td>23.192766</td><td>22.409925</td><td>99.0</td><td>21.995344</td><td>0.065529615</td><td>0.055003334</td><td>99.0</td><td>0.076059565</td><td>0.19348708</td><td>0.20213763</td><td>99.0</td><td>0.076059565</td><td>22.768435</td><td>22.09539</td><td>99.0</td><td>21.662312</td><td>0.086371474</td><td>0.0746078</td><td>99.0</td><td>0.116886474</td><td>0.08809838</td><td>0.013380445</td><td>99.0</td><td>0.11688648</td><td>0.010225713</td><td>0.009185322</td><td>-1.0</td><td>0.0115675805</td><td>0.0027923787</td><td>0.0021919978</td><td>1.0</td><td>0.0033433365</td><td>0.010489231</td><td>0.0026642545</td><td>1.0</td><td>0.0033433365</td><td>2</td><td>0</td><td>99</td><td>0</td><td>772292</td><td>772291</td><td>-1</td><td>783893</td><td>44</td><td>44</td><td>-1</td><td>32</td><td>0.97666</td><td>0.865305</td><td>-1.0</td><td>0.47798</td><td>60.0</td><td>42.0</td><td>-1.0</td><td>227.0</td><td>1.3293674</td><td>1.8221737</td><td>-1.0</td><td>2.1826026</td><td>1.1342213</td><td>1.4881004</td><td>-1.0</td><td>1.3445351</td><td>68.23184</td><td>-17.453379</td><td>-1.0</td><td>12.1124935</td><td>0.031200882</td><td>0.09940601</td><td>0.06676989</td><td>0.048954185</td><td>0.037316255</td><td>3.0</td><td>3.0</td><td>1.0</td><td>3.0</td></tr>\n",
       "<tr><td>10748900000007</td><td>3.3146743148647215</td><td>-12.557201641088724</td><td>17595769</td><td>2</td><td>0</td><td>0</td><td>0</td><td>23.706902</td><td>99.0</td><td>99.0</td><td>99.0</td><td>0.13131331</td><td>99.0</td><td>99.0</td><td>99.0</td><td>22.814396</td><td>99.0</td><td>99.0</td><td>99.0</td><td>0.1217703</td><td>99.0</td><td>99.0</td><td>99.0</td><td>0.022028752</td><td>-1.0</td><td>-1.0</td><td>-1.0</td><td>0.005628795</td><td>1.0</td><td>1.0</td><td>1.0</td><td>0.3746825</td><td>-1.0</td><td>-1.0</td><td>-1.0</td><td>0</td><td>99</td><td>99</td><td>99</td><td>23.190025</td><td>99.0</td><td>99.0</td><td>99.0</td><td>0.077543154</td><td>99.0</td><td>99.0</td><td>99.0</td><td>0.5098002</td><td>99.0</td><td>99.0</td><td>99.0</td><td>22.772795</td><td>99.0</td><td>99.0</td><td>99.0</td><td>0.08005727</td><td>99.0</td><td>99.0</td><td>99.0</td><td>0.050859444</td><td>99.0</td><td>99.0</td><td>99.0</td><td>0.009391041</td><td>-1.0</td><td>-1.0</td><td>-1.0</td><td>0.0032599464</td><td>1.0</td><td>1.0</td><td>1.0</td><td>0.011989567</td><td>1.0</td><td>1.0</td><td>1.0</td><td>0</td><td>99</td><td>99</td><td>99</td><td>770012</td><td>-1</td><td>-1</td><td>-1</td><td>26</td><td>-1</td><td>-1</td><td>-1</td><td>0.648166</td><td>-1.0</td><td>-1.0</td><td>-1.0</td><td>83.0</td><td>-1.0</td><td>-1.0</td><td>-1.0</td><td>1.6879926</td><td>-1.0</td><td>-1.0</td><td>-1.0</td><td>0.80970466</td><td>-1.0</td><td>-1.0</td><td>-1.0</td><td>48.00437</td><td>-1.0</td><td>-1.0</td><td>-1.0</td><td>0.03135331</td><td>0.09989164</td><td>0.067096084</td><td>0.04919334</td><td>0.037498556</td><td>3.0</td><td>1.0</td><td>1.0</td><td>1.0</td></tr>\n",
       "<tr><td>10748900000009</td><td>3.3237248651612674</td><td>-12.472313856676536</td><td>17595861</td><td>1</td><td>0</td><td>0</td><td>0</td><td>23.022827</td><td>99.0</td><td>99.0</td><td>99.0</td><td>0.08532843</td><td>99.0</td><td>99.0</td><td>99.0</td><td>23.070871</td><td>99.0</td><td>99.0</td><td>99.0</td><td>0.13419265</td><td>99.0</td><td>99.0</td><td>99.0</td><td>0.013656546</td><td>-1.0</td><td>-1.0</td><td>-1.0</td><td>0.0035340427</td><td>1.0</td><td>1.0</td><td>1.0</td><td>0.36833</td><td>-1.0</td><td>-1.0</td><td>-1.0</td><td>2</td><td>99</td><td>99</td><td>99</td><td>23.022827</td><td>99.0</td><td>99.0</td><td>99.0</td><td>0.08532843</td><td>99.0</td><td>99.0</td><td>99.0</td><td>0.08532843</td><td>99.0</td><td>99.0</td><td>99.0</td><td>23.070871</td><td>99.0</td><td>99.0</td><td>99.0</td><td>0.13419265</td><td>99.0</td><td>99.0</td><td>99.0</td><td>0.13419265</td><td>99.0</td><td>99.0</td><td>99.0</td><td>0.013656546</td><td>-1.0</td><td>-1.0</td><td>-1.0</td><td>0.0035340427</td><td>1.0</td><td>1.0</td><td>1.0</td><td>0.0035340425</td><td>1.0</td><td>1.0</td><td>1.0</td><td>2</td><td>99</td><td>99</td><td>99</td><td>661286</td><td>-1</td><td>-1</td><td>-1</td><td>32</td><td>-1</td><td>-1</td><td>-1</td><td>0.244289</td><td>-1.0</td><td>-1.0</td><td>-1.0</td><td>200.0</td><td>-1.0</td><td>-1.0</td><td>-1.0</td><td>1.372195</td><td>-1.0</td><td>-1.0</td><td>-1.0</td><td>1.2214788</td><td>-1.0</td><td>-1.0</td><td>-1.0</td><td>9.427893</td><td>-1.0</td><td>-1.0</td><td>-1.0</td><td>0.03160691</td><td>0.10069962</td><td>0.06763879</td><td>0.049591243</td><td>0.037801865</td><td>3.0</td><td>1.0</td><td>1.0</td><td>1.0</td></tr>\n",
       "<tr><td>10748900000010</td><td>3.327157919891151</td><td>-12.522023252393268</td><td>17595774</td><td>1</td><td>2</td><td>0</td><td>0</td><td>22.717709</td><td>22.756405</td><td>99.0</td><td>99.0</td><td>0.06918994</td><td>0.10249973</td><td>99.0</td><td>99.0</td><td>22.257431</td><td>22.003862</td><td>99.0</td><td>99.0</td><td>0.08504552</td><td>0.14309576</td><td>99.0</td><td>99.0</td><td>0.009360873</td><td>0.02069513</td><td>-1.0</td><td>-1.0</td><td>0.002632242</td><td>0.0046153916</td><td>1.0</td><td>1.0</td><td>0.5570884</td><td>0.008582772</td><td>-1.0</td><td>-1.0</td><td>3</td><td>3</td><td>99</td><td>99</td><td>22.717709</td><td>22.413847</td><td>99.0</td><td>99.0</td><td>0.06918994</td><td>0.06355557</td><td>99.0</td><td>99.0</td><td>0.06918994</td><td>0.3725134</td><td>99.0</td><td>99.0</td><td>22.257431</td><td>21.36566</td><td>99.0</td><td>99.0</td><td>0.08504552</td><td>0.07969628</td><td>99.0</td><td>99.0</td><td>0.08504552</td><td>0.5599192</td><td>99.0</td><td>99.0</td><td>0.009360873</td><td>0.015293721</td><td>-1.0</td><td>-1.0</td><td>0.002632242</td><td>0.00276422</td><td>1.0</td><td>1.0</td><td>0.002632242</td><td>0.0054799933</td><td>1.0</td><td>1.0</td><td>3</td><td>3</td><td>99</td><td>99</td><td>661286</td><td>772291</td><td>-1</td><td>-1</td><td>32</td><td>38</td><td>-1</td><td>-1</td><td>0.244289</td><td>0.865305</td><td>-1.0</td><td>-1.0</td><td>200.0</td><td>42.0</td><td>-1.0</td><td>-1.0</td><td>2.5893664</td><td>1.7106957</td><td>-1.0</td><td>-1.0</td><td>1.6707289</td><td>1.3427634</td><td>-1.0</td><td>-1.0</td><td>39.38712</td><td>4.145949</td><td>-1.0</td><td>-1.0</td><td>0.03180115</td><td>0.101318456</td><td>0.06805446</td><td>0.049896</td><td>0.038034175</td><td>3.0</td><td>3.0</td><td>1.0</td><td>1.0</td></tr>\n",
       "<tr><td>10748900000011</td><td>3.3288165734329165</td><td>-12.546519467611589</td><td>17595772</td><td>3</td><td>3</td><td>1</td><td>2</td><td>22.905176</td><td>22.119015</td><td>21.306686</td><td>21.047344</td><td>0.06449294</td><td>0.058290757</td><td>0.05139651</td><td>0.032089535</td><td>22.334599</td><td>21.539227</td><td>20.986021</td><td>20.612242</td><td>0.094417416</td><td>0.076312214</td><td>0.076057054</td><td>0.05133035</td><td>0.016856931</td><td>0.016788624</td><td>0.0137161</td><td>0.015606396</td><td>0.0028824424</td><td>0.0025420126</td><td>0.0021957662</td><td>0.00144716</td><td>0.16032025</td><td>0.13777085</td><td>0.076249674</td><td>0.034823574</td><td>0</td><td>0</td><td>0</td><td>0</td><td>22.76166</td><td>21.9397</td><td>21.306686</td><td>21.057411</td><td>0.037930764</td><td>0.03201919</td><td>0.05139651</td><td>0.033511072</td><td>0.23266385</td><td>0.15140814</td><td>0.05139651</td><td>0.031049753</td><td>22.371677</td><td>21.565659</td><td>20.986021</td><td>20.630613</td><td>0.054398168</td><td>0.043698765</td><td>0.076057054</td><td>0.0496504</td><td>0.03127459</td><td>0.14759852</td><td>0.076057054</td><td>0.04861656</td><td>0.013409185</td><td>0.0126272105</td><td>0.0137161</td><td>0.015577282</td><td>0.0016442974</td><td>0.0013929001</td><td>0.0021957662</td><td>0.0014981157</td><td>0.00443516</td><td>0.005534734</td><td>0.0021957662</td><td>8.82476e-05</td><td>0</td><td>0</td><td>0</td><td>0</td><td>770012</td><td>770011</td><td>901425</td><td>783893</td><td>26</td><td>26</td><td>26</td><td>32</td><td>0.648166</td><td>0.644267</td><td>0.207629</td><td>0.47798</td><td>83.0</td><td>40.0</td><td>90.0</td><td>227.0</td><td>2.2978046</td><td>2.464795</td><td>2.712495</td><td>2.8046842</td><td>1.6165372</td><td>1.64996</td><td>1.9424591</td><td>2.369541</td><td>72.827385</td><td>-89.24891</td><td>84.80972</td><td>78.93112</td><td>0.031592946</td><td>0.10065513</td><td>0.06760891</td><td>0.049569335</td><td>0.037785165</td><td>3.0</td><td>3.0</td><td>3.0</td><td>3.0</td></tr>\n",
       "<tr><td>...</td><td>...</td><td>...</td><td>...</td><td>...</td><td>...</td><td>...</td><td>...</td><td>...</td><td>...</td><td>...</td><td>...</td><td>...</td><td>...</td><td>...</td><td>...</td><td>...</td><td>...</td><td>...</td><td>...</td><td>...</td><td>...</td><td>...</td><td>...</td><td>...</td><td>...</td><td>...</td><td>...</td><td>...</td><td>...</td><td>...</td><td>...</td><td>...</td><td>...</td><td>...</td><td>...</td><td>...</td><td>...</td><td>...</td><td>...</td><td>...</td><td>...</td><td>...</td><td>...</td><td>...</td><td>...</td><td>...</td><td>...</td><td>...</td><td>...</td><td>...</td><td>...</td><td>...</td><td>...</td><td>...</td><td>...</td><td>...</td><td>...</td><td>...</td><td>...</td><td>...</td><td>...</td><td>...</td><td>...</td><td>...</td><td>...</td><td>...</td><td>...</td><td>...</td><td>...</td><td>...</td><td>...</td><td>...</td><td>...</td><td>...</td><td>...</td><td>...</td><td>...</td><td>...</td><td>...</td><td>...</td><td>...</td><td>...</td><td>...</td><td>...</td><td>...</td><td>...</td><td>...</td><td>...</td><td>...</td><td>...</td><td>...</td><td>...</td><td>...</td><td>...</td><td>...</td><td>...</td><td>...</td><td>...</td><td>...</td><td>...</td><td>...</td><td>...</td><td>...</td><td>...</td><td>...</td><td>...</td><td>...</td><td>...</td><td>...</td><td>...</td><td>...</td><td>...</td><td>...</td><td>...</td><td>...</td><td>...</td></tr>\n",
       "<tr><td>10925201850211</td><td>283.7300253032356</td><td>-30.272634762018924</td><td>49194246</td><td>3</td><td>6</td><td>9</td><td>14</td><td>22.942629</td><td>21.903503</td><td>21.481464</td><td>21.310215</td><td>0.07990298</td><td>0.038091075</td><td>0.025843471</td><td>0.034036614</td><td>22.77028</td><td>21.648796</td><td>21.39605</td><td>20.972038</td><td>0.11744453</td><td>0.08461888</td><td>0.039847344</td><td>0.054827172</td><td>0.0026118034</td><td>0.0029301436</td><td>-0.00058811775</td><td>0.0031627552</td><td>0.003054706</td><td>0.0014204376</td><td>0.0010026632</td><td>0.0013799948</td><td>0.70329446</td><td>0.18777815</td><td>0.9253369</td><td>0.34487712</td><td>1</td><td>3</td><td>1</td><td>3</td><td>22.971138</td><td>21.909504</td><td>21.493418</td><td>21.318302</td><td>0.048262365</td><td>0.026349213</td><td>0.020608481</td><td>0.023577094</td><td>0.027595429</td><td>0.052783303</td><td>0.04373203</td><td>0.05605319</td><td>22.682673</td><td>21.72375</td><td>21.335155</td><td>21.212814</td><td>0.07190152</td><td>0.04100876</td><td>0.030924495</td><td>0.039043244</td><td>0.08279421</td><td>0.118494906</td><td>0.15875994</td><td>0.19281237</td><td>0.0027301693</td><td>0.0014025309</td><td>0.0009977267</td><td>-0.00058878807</td><td>0.0017461245</td><td>0.0010147715</td><td>0.0008080556</td><td>0.00094932417</td><td>0.0007968464</td><td>0.0019554829</td><td>0.0021811987</td><td>0.003193973</td><td>1</td><td>3</td><td>3</td><td>3</td><td>750618</td><td>208789</td><td>750542</td><td>548030</td><td>28</td><td>21</td><td>28</td><td>21</td><td>0.447077</td><td>0.357168</td><td>0.946486</td><td>0.493099</td><td>120.0</td><td>75.0</td><td>120.0</td><td>180.0</td><td>1.6046162</td><td>4.0417476</td><td>2.2200449</td><td>2.9896853</td><td>1.2103198</td><td>1.4477707</td><td>1.3537369</td><td>1.859898</td><td>77.77173</td><td>85.97854</td><td>82.977844</td><td>85.14311</td><td>0.1552848</td><td>0.4947374</td><td>0.33230948</td><td>0.24364185</td><td>0.18572062</td><td>2.0</td><td>2.0</td><td>0.0</td><td>2.0</td></tr>\n",
       "<tr><td>10925201850231</td><td>283.76814341848717</td><td>-30.286592673210848</td><td>49194244</td><td>11</td><td>10</td><td>13</td><td>13</td><td>21.485203</td><td>21.025139</td><td>20.795067</td><td>20.749573</td><td>0.020756325</td><td>0.014062148</td><td>0.014527043</td><td>0.04299372</td><td>21.140005</td><td>20.597244</td><td>20.296776</td><td>20.363056</td><td>0.029508995</td><td>0.02123537</td><td>0.03259097</td><td>0.06358505</td><td>0.003078543</td><td>0.004213072</td><td>0.0049180216</td><td>0.005159195</td><td>0.0007949014</td><td>0.0005461558</td><td>0.0005788448</td><td>0.0017673963</td><td>0.43504795</td><td>0.29546493</td><td>0.07687327</td><td>0.18605086</td><td>3</td><td>3</td><td>3</td><td>2</td><td>21.485512</td><td>21.010384</td><td>20.801172</td><td>20.711176</td><td>0.00957767</td><td>0.007960353</td><td>0.008394436</td><td>0.015076204</td><td>0.020580629</td><td>0.015897231</td><td>0.025577085</td><td>0.06533538</td><td>21.095171</td><td>20.550732</td><td>20.419474</td><td>20.509115</td><td>0.015197624</td><td>0.012774494</td><td>0.014322816</td><td>0.02639869</td><td>0.054480653</td><td>0.055604618</td><td>0.12100897</td><td>0.12881136</td><td>0.0053324862</td><td>0.0042662476</td><td>0.005528973</td><td>0.0048843403</td><td>0.0003744236</td><td>0.00031223785</td><td>0.0003338048</td><td>0.00062439725</td><td>0.0012992816</td><td>0.0012355697</td><td>0.0012190634</td><td>0.002931797</td><td>3</td><td>3</td><td>3</td><td>3</td><td>750540</td><td>750541</td><td>750542</td><td>750539</td><td>28</td><td>28</td><td>28</td><td>28</td><td>0.547217</td><td>0.755747</td><td>0.946486</td><td>1.4726</td><td>120.0</td><td>120.0</td><td>120.0</td><td>30.0</td><td>3.2721786</td><td>3.1301074</td><td>6.4263453</td><td>2.3325264</td><td>2.0279574</td><td>2.2957387</td><td>2.3557875</td><td>1.7676934</td><td>-88.8312</td><td>87.86741</td><td>79.993546</td><td>53.109524</td><td>0.15401503</td><td>0.4906919</td><td>0.32959217</td><td>0.24164958</td><td>0.18420199</td><td>2.0</td><td>3.0</td><td>3.0</td><td>3.0</td></tr>\n",
       "<tr><td>10925201850237</td><td>283.7779391801121</td><td>-30.274840647018507</td><td>49194245</td><td>9</td><td>6</td><td>9</td><td>14</td><td>21.533154</td><td>20.99654</td><td>20.766182</td><td>20.632408</td><td>0.021646786</td><td>0.018417573</td><td>0.029625207</td><td>0.01915802</td><td>21.336514</td><td>20.938639</td><td>20.71229</td><td>20.396774</td><td>0.036729347</td><td>0.027837252</td><td>0.05486063</td><td>0.033650182</td><td>0.0035965284</td><td>0.002226688</td><td>0.0016892275</td><td>0.008979331</td><td>0.00082177826</td><td>0.0006580488</td><td>0.0011852594</td><td>0.0008412296</td><td>0.6358526</td><td>0.9825035</td><td>0.69152516</td><td>0.08412494</td><td>3</td><td>3</td><td>3</td><td>3</td><td>21.535444</td><td>20.997454</td><td>20.762854</td><td>20.649391</td><td>0.011871852</td><td>0.011893382</td><td>0.011129473</td><td>0.013745841</td><td>0.022634922</td><td>0.016338633</td><td>0.033134263</td><td>0.061679088</td><td>21.47732</td><td>20.899076</td><td>20.706427</td><td>20.544527</td><td>0.019796789</td><td>0.019667327</td><td>0.018288018</td><td>0.02311719</td><td>0.08985731</td><td>0.04996034</td><td>0.03761434</td><td>0.1352138</td><td>0.0027352702</td><td>0.003098632</td><td>0.0039023298</td><td>0.0042103576</td><td>0.00045045567</td><td>0.00046210486</td><td>0.0004370948</td><td>0.00056412944</td><td>0.0009888982</td><td>0.0014563836</td><td>0.0014991321</td><td>0.0037813815</td><td>3</td><td>3</td><td>3</td><td>3</td><td>750540</td><td>208792</td><td>750538</td><td>548032</td><td>28</td><td>27</td><td>28</td><td>22</td><td>0.547217</td><td>0.361959</td><td>1.27675</td><td>0.423056</td><td>120.0</td><td>75.0</td><td>30.0</td><td>180.0</td><td>2.4222064</td><td>1.9263157</td><td>1.753857</td><td>2.2521846</td><td>1.8720044</td><td>1.6419176</td><td>1.5968826</td><td>1.9483109</td><td>-28.698742</td><td>-37.315666</td><td>-10.008838</td><td>-0.49725398</td><td>0.15358353</td><td>0.48931712</td><td>0.32866874</td><td>0.24097255</td><td>0.1836859</td><td>2.0</td><td>0.0</td><td>1.0</td><td>3.0</td></tr>\n",
       "<tr><td>10925201850241</td><td>283.5515700078906</td><td>-30.436425102855267</td><td>49194054</td><td>10</td><td>8</td><td>9</td><td>13</td><td>20.76265</td><td>20.19775</td><td>19.99172</td><td>19.761604</td><td>0.011205056</td><td>0.007326514</td><td>0.0076525104</td><td>0.009987752</td><td>19.655989</td><td>19.223042</td><td>18.852774</td><td>18.73235</td><td>0.012090297</td><td>0.0077671465</td><td>0.00895192</td><td>0.012173933</td><td>0.015475988</td><td>0.025299858</td><td>0.015304375</td><td>0.014342352</td><td>0.00049838854</td><td>0.00035964526</td><td>0.00037941473</td><td>0.00042504017</td><td>0.027850527</td><td>0.028614957</td><td>0.028615365</td><td>0.02665932</td><td>3</td><td>3</td><td>3</td><td>3</td><td>20.717144</td><td>20.180124</td><td>19.94989</td><td>19.772518</td><td>0.004782743</td><td>0.0045777196</td><td>0.004591384</td><td>0.004663849</td><td>0.054583304</td><td>0.022339053</td><td>0.03662933</td><td>0.108374834</td><td>19.739948</td><td>19.068445</td><td>18.929682</td><td>18.758673</td><td>0.005051884</td><td>0.004829771</td><td>0.0053573074</td><td>0.0062591373</td><td>0.10259242</td><td>0.197244</td><td>0.06454955</td><td>0.07337282</td><td>0.017016806</td><td>0.016724318</td><td>0.014360194</td><td>0.012993404</td><td>0.0002069104</td><td>0.00020204295</td><td>0.00020515795</td><td>0.00020221554</td><td>0.0015724271</td><td>0.007410868</td><td>0.004554356</td><td>0.00215105</td><td>3</td><td>3</td><td>3</td><td>3</td><td>750540</td><td>750541</td><td>750542</td><td>548028</td><td>34</td><td>34</td><td>34</td><td>27</td><td>0.547217</td><td>0.755747</td><td>0.946486</td><td>0.552881</td><td>120.0</td><td>120.0</td><td>120.0</td><td>180.0</td><td>6.1472507</td><td>4.665289</td><td>4.884382</td><td>4.9615607</td><td>2.9398944</td><td>2.8331382</td><td>3.4626334</td><td>3.5408773</td><td>27.817837</td><td>45.19544</td><td>42.373947</td><td>41.528465</td><td>0.1534812</td><td>0.4889911</td><td>0.32844976</td><td>0.240812</td><td>0.18356352</td><td>3.0</td><td>3.0</td><td>3.0</td><td>3.0</td></tr>\n",
       "<tr><td>10925201850252</td><td>283.56783278997983</td><td>-30.44778392113942</td><td>49194052</td><td>10</td><td>10</td><td>12</td><td>18</td><td>22.38369</td><td>21.951107</td><td>21.742401</td><td>21.688335</td><td>0.041126586</td><td>0.029137652</td><td>0.03158987</td><td>0.05553261</td><td>22.24502</td><td>21.961159</td><td>21.720102</td><td>21.750626</td><td>0.05535809</td><td>0.04653719</td><td>0.06171295</td><td>0.080360666</td><td>0.009166038</td><td>0.0047069117</td><td>0.0037757098</td><td>0.001714955</td><td>0.0017014557</td><td>0.0011233378</td><td>0.0012463586</td><td>0.002177982</td><td>0.16316801</td><td>0.5344023</td><td>0.3687036</td><td>0.7476937</td><td>3</td><td>3</td><td>3</td><td>3</td><td>22.436743</td><td>21.943474</td><td>21.776966</td><td>21.675106</td><td>0.021357406</td><td>0.016816411</td><td>0.02034368</td><td>0.023361241</td><td>0.05999026</td><td>0.03939822</td><td>0.059636783</td><td>0.115153305</td><td>22.482803</td><td>21.960253</td><td>21.812984</td><td>21.668062</td><td>0.028545044</td><td>0.023171792</td><td>0.029197305</td><td>0.034881186</td><td>0.17086108</td><td>0.07301521</td><td>0.093046494</td><td>0.22041442</td><td>0.0027324646</td><td>0.0032155917</td><td>0.0029333078</td><td>0.0038512074</td><td>0.00079036027</td><td>0.00064869976</td><td>0.00078196946</td><td>0.00091082806</td><td>0.0032230897</td><td>0.0016974626</td><td>0.0030276936</td><td>0.0037733272</td><td>3</td><td>3</td><td>3</td><td>3</td><td>750540</td><td>750541</td><td>750542</td><td>548028</td><td>34</td><td>34</td><td>34</td><td>27</td><td>0.547217</td><td>0.755747</td><td>0.946486</td><td>0.552881</td><td>120.0</td><td>120.0</td><td>120.0</td><td>180.0</td><td>2.0994277</td><td>1.8542134</td><td>1.9881486</td><td>1.8016341</td><td>1.6263502</td><td>1.6192223</td><td>1.4337806</td><td>1.329477</td><td>2.9635532</td><td>30.599916</td><td>9.469623</td><td>1.5782357</td><td>0.1531351</td><td>0.48788846</td><td>0.32770914</td><td>0.24026899</td><td>0.18314959</td><td>3.0</td><td>3.0</td><td>2.0</td><td>2.0</td></tr>\n",
       "<tr><td>10925201850257</td><td>283.5700164923305</td><td>-30.434885312225447</td><td>49194054</td><td>9</td><td>8</td><td>11</td><td>17</td><td>20.711346</td><td>20.338764</td><td>20.195702</td><td>20.075714</td><td>0.011046338</td><td>0.008144922</td><td>0.008889182</td><td>0.013315782</td><td>20.59733</td><td>20.16275</td><td>19.99019</td><td>19.98784</td><td>0.014123565</td><td>0.010232458</td><td>0.0119404495</td><td>0.017758712</td><td>0.008176375</td><td>0.008910873</td><td>0.007936775</td><td>0.0071195145</td><td>0.0004546949</td><td>0.00032688532</td><td>0.00035810316</td><td>0.00051234436</td><td>0.5384517</td><td>0.33327213</td><td>0.4285508</td><td>0.5383103</td><td>3</td><td>3</td><td>3</td><td>3</td><td>20.706036</td><td>20.325388</td><td>20.179638</td><td>20.120344</td><td>0.005596428</td><td>0.005197978</td><td>0.005557286</td><td>0.0064118397</td><td>0.019771885</td><td>0.021806078</td><td>0.02794664</td><td>0.04545031</td><td>20.5924</td><td>20.172262</td><td>19.981298</td><td>20.000372</td><td>0.0078712525</td><td>0.0072876583</td><td>0.008789751</td><td>0.01070599</td><td>0.048083633</td><td>0.096178226</td><td>0.06973713</td><td>0.11584625</td><td>0.0070227976</td><td>0.0078009344</td><td>0.008007436</td><td>0.007026993</td><td>0.00022303901</td><td>0.00020809614</td><td>0.00022176237</td><td>0.00026134032</td><td>0.0011098117</td><td>0.0012895216</td><td>0.0009291581</td><td>0.001916512</td><td>3</td><td>3</td><td>3</td><td>3</td><td>750540</td><td>750541</td><td>750542</td><td>548028</td><td>34</td><td>34</td><td>34</td><td>27</td><td>0.547217</td><td>0.755747</td><td>0.946486</td><td>0.552881</td><td>120.0</td><td>120.0</td><td>120.0</td><td>180.0</td><td>2.2598195</td><td>2.174947</td><td>2.083728</td><td>2.053778</td><td>1.9817054</td><td>1.9016187</td><td>1.8369366</td><td>1.83625</td><td>58.825424</td><td>74.962776</td><td>60.38259</td><td>61.522583</td><td>0.1541535</td><td>0.49113303</td><td>0.32988846</td><td>0.24186683</td><td>0.18436758</td><td>3.0</td><td>3.0</td><td>3.0</td><td>3.0</td></tr>\n",
       "<tr><td>10925201850259</td><td>283.57072427880854</td><td>-30.454376168981582</td><td>49194052</td><td>11</td><td>10</td><td>13</td><td>18</td><td>22.47018</td><td>21.862984</td><td>21.732206</td><td>21.578299</td><td>0.044419575</td><td>0.026758397</td><td>0.031110829</td><td>0.050004713</td><td>22.433636</td><td>21.695349</td><td>21.402771</td><td>21.54623</td><td>0.062025085</td><td>0.039148968</td><td>0.045818463</td><td>0.0713268</td><td>0.004220321</td><td>0.004018762</td><td>0.00841572</td><td>0.0033942403</td><td>0.0017996319</td><td>0.001041346</td><td>0.0012571759</td><td>0.0020032213</td><td>0.4616946</td><td>0.4145313</td><td>0.08486485</td><td>0.3145441</td><td>3</td><td>3</td><td>3</td><td>2</td><td>22.493011</td><td>21.918089</td><td>21.692198</td><td>21.610283</td><td>0.02106773</td><td>0.016579693</td><td>0.01881742</td><td>0.025162477</td><td>0.054752763</td><td>0.040842082</td><td>0.06260518</td><td>0.06478629</td><td>22.529818</td><td>21.784988</td><td>21.573734</td><td>21.592018</td><td>0.029259693</td><td>0.023086065</td><td>0.027755627</td><td>0.030763904</td><td>0.10648404</td><td>0.100646555</td><td>0.1694561</td><td>0.17781009</td><td>0.0016436647</td><td>0.004938171</td><td>0.005855171</td><td>0.004070102</td><td>0.0008065246</td><td>0.00065124745</td><td>0.0007258825</td><td>0.00088591233</td><td>0.0023671535</td><td>0.002670768</td><td>0.0026638522</td><td>0.0033653604</td><td>3</td><td>3</td><td>3</td><td>2</td><td>750540</td><td>750541</td><td>750542</td><td>548028</td><td>34</td><td>34</td><td>34</td><td>27</td><td>0.547217</td><td>0.755747</td><td>0.946486</td><td>0.552881</td><td>120.0</td><td>120.0</td><td>120.0</td><td>180.0</td><td>1.8193781</td><td>2.1897268</td><td>2.5476668</td><td>2.056644</td><td>1.6354465</td><td>1.58815</td><td>1.5425392</td><td>1.4977087</td><td>-67.3283</td><td>-69.50475</td><td>-59.029648</td><td>-59.967617</td><td>0.15270446</td><td>0.48651645</td><td>0.32678756</td><td>0.23959331</td><td>0.18263455</td><td>2.0</td><td>2.0</td><td>3.0</td><td>2.0</td></tr>\n",
       "<tr><td>10925201850262</td><td>283.5716445664949</td><td>-30.43193909004451</td><td>49194054</td><td>9</td><td>8</td><td>10</td><td>12</td><td>21.41685</td><td>20.574453</td><td>20.307508</td><td>20.046696</td><td>0.018686611</td><td>0.009693654</td><td>0.009708856</td><td>0.012886596</td><td>21.23616</td><td>20.37581</td><td>20.135017</td><td>19.821901</td><td>0.03297769</td><td>0.015172282</td><td>0.015992584</td><td>0.022900615</td><td>0.0041241036</td><td>0.0042674993</td><td>0.004017131</td><td>0.006171219</td><td>0.0007466262</td><td>0.00037223104</td><td>0.0003795736</td><td>0.0005136378</td><td>0.58437216</td><td>0.46126252</td><td>0.8528099</td><td>0.3329741</td><td>3</td><td>3</td><td>3</td><td>3</td><td>21.414112</td><td>20.578842</td><td>20.265335</td><td>20.050066</td><td>0.009731323</td><td>0.0063119996</td><td>0.0055430755</td><td>0.006475617</td><td>0.02464567</td><td>0.01672803</td><td>0.032979652</td><td>0.035548408</td><td>21.261904</td><td>20.425186</td><td>20.09211</td><td>19.826818</td><td>0.016569931</td><td>0.010865287</td><td>0.009734781</td><td>0.011491402</td><td>0.08996578</td><td>0.058787994</td><td>0.059615232</td><td>0.075342655</td><td>0.0037471852</td><td>0.004055072</td><td>0.003985537</td><td>0.005192034</td><td>0.0003804814</td><td>0.0002450562</td><td>0.00021941624</td><td>0.00026217743</td><td>0.0010744798</td><td>0.0011494214</td><td>0.0008610532</td><td>0.0009375399</td><td>3</td><td>3</td><td>3</td><td>3</td><td>750540</td><td>750541</td><td>750542</td><td>548028</td><td>34</td><td>34</td><td>34</td><td>27</td><td>0.547217</td><td>0.755747</td><td>0.946486</td><td>0.552881</td><td>120.0</td><td>120.0</td><td>120.0</td><td>180.0</td><td>2.8661199</td><td>2.755879</td><td>2.4288404</td><td>2.634514</td><td>1.9247711</td><td>1.9842725</td><td>1.9679711</td><td>2.2493746</td><td>-83.30168</td><td>-78.323555</td><td>-79.570854</td><td>-85.18104</td><td>0.15441896</td><td>0.4919788</td><td>0.33045658</td><td>0.24228334</td><td>0.18468507</td><td>3.0</td><td>3.0</td><td>3.0</td><td>3.0</td></tr>\n",
       "<tr><td>10925201850264</td><td>283.5716123288444</td><td>-30.461733498742163</td><td>49194052</td><td>2</td><td>10</td><td>12</td><td>8</td><td>20.07817</td><td>18.726665</td><td>18.069405</td><td>17.669956</td><td>0.015094949</td><td>0.002973175</td><td>0.0022237233</td><td>0.0023078474</td><td>20.03899</td><td>18.688917</td><td>18.04628</td><td>17.653374</td><td>0.017782932</td><td>0.0034461117</td><td>0.002637386</td><td>0.002907674</td><td>0.0033462294</td><td>0.001751581</td><td>0.0014246895</td><td>0.0024607286</td><td>0.00056257896</td><td>0.00011054753</td><td>8.417985e-05</td><td>8.294229e-05</td><td>0.9749097</td><td>0.9844558</td><td>0.9836998</td><td>0.98399395</td><td>3</td><td>3</td><td>3</td><td>3</td><td>20.034048</td><td>18.725763</td><td>18.054747</td><td>17.694895</td><td>0.010453446</td><td>0.0015237028</td><td>0.0010361964</td><td>0.0014444345</td><td>0.059849873</td><td>0.017047377</td><td>0.011720795</td><td>0.02164376</td><td>19.981604</td><td>18.696957</td><td>18.026525</td><td>17.679712</td><td>0.012736139</td><td>0.0017621497</td><td>0.0012759385</td><td>0.001978918</td><td>0.08325925</td><td>0.02399088</td><td>0.02196984</td><td>0.025112985</td><td>0.0038383973</td><td>0.0018379096</td><td>0.0017578335</td><td>0.0018110978</td><td>0.00040247347</td><td>5.554612e-05</td><td>3.8681384e-05</td><td>5.463432e-05</td><td>0.00071246875</td><td>0.00041971167</td><td>0.00050892535</td><td>0.0005795818</td><td>3</td><td>3</td><td>3</td><td>3</td><td>750536</td><td>750541</td><td>750542</td><td>548040</td><td>34</td><td>34</td><td>34</td><td>27</td><td>0.573677</td><td>0.755747</td><td>0.946486</td><td>0.452362</td><td>30.0</td><td>120.0</td><td>120.0</td><td>180.0</td><td>1.927702</td><td>2.1437466</td><td>1.994876</td><td>2.3074205</td><td>1.7454094</td><td>1.9359624</td><td>1.8437492</td><td>2.097262</td><td>84.82243</td><td>80.03043</td><td>74.94705</td><td>-39.921837</td><td>0.15213096</td><td>0.48468927</td><td>0.32556027</td><td>0.23869349</td><td>0.18194863</td><td>2.0</td><td>0.0</td><td>0.0</td><td>0.0</td></tr>\n",
       "<tr><td>10925201850287</td><td>283.59173855011943</td><td>-30.45887447503</td><td>49194052</td><td>7</td><td>5</td><td>9</td><td>11</td><td>20.90747</td><td>20.43407</td><td>20.272026</td><td>20.188154</td><td>0.0140582295</td><td>0.01091751</td><td>0.009555429</td><td>0.025663584</td><td>20.732994</td><td>20.227907</td><td>19.984077</td><td>19.95472</td><td>0.01988531</td><td>0.016357437</td><td>0.014442796</td><td>0.04004281</td><td>0.007149792</td><td>0.006513357</td><td>0.005059742</td><td>0.0052810227</td><td>0.00057235453</td><td>0.00042361012</td><td>0.0003730036</td><td>0.0009849074</td><td>0.39770824</td><td>0.124032795</td><td>0.20303965</td><td>0.340971</td><td>0</td><td>0</td><td>0</td><td>0</td><td>20.917614</td><td>20.46262</td><td>20.2792</td><td>20.208904</td><td>0.0070072906</td><td>0.0052551837</td><td>0.0068132295</td><td>0.010680893</td><td>0.02214259</td><td>0.020937808</td><td>0.020038482</td><td>0.03495692</td><td>20.721914</td><td>20.199524</td><td>20.03537</td><td>20.030022</td><td>0.009548735</td><td>0.0077780904</td><td>0.010273016</td><td>0.015957277</td><td>0.022021556</td><td>0.026192697</td><td>0.046219446</td><td>0.073098555</td><td>0.006685866</td><td>0.0056293285</td><td>0.005233954</td><td>0.004978403</td><td>0.0002728738</td><td>0.00019412111</td><td>0.0002648455</td><td>0.00043817013</td><td>0.0004521543</td><td>0.0007043835</td><td>0.00064475</td><td>0.0017256613</td><td>0</td><td>0</td><td>0</td><td>2</td><td>750589</td><td>750619</td><td>750542</td><td>208797</td><td>35</td><td>35</td><td>35</td><td>27</td><td>0.451783</td><td>0.433862</td><td>0.946486</td><td>0.473126</td><td>120.0</td><td>120.0</td><td>120.0</td><td>75.0</td><td>2.633463</td><td>2.654946</td><td>2.540605</td><td>2.4373267</td><td>2.1486716</td><td>2.10722</td><td>1.9918082</td><td>1.6866823</td><td>2.7966762</td><td>4.0923595</td><td>3.9476345</td><td>-5.955529</td><td>0.15308757</td><td>0.48773697</td><td>0.3276074</td><td>0.2401944</td><td>0.18309273</td><td>3.0</td><td>3.0</td><td>3.0</td><td>3.0</td></tr>\n",
       "<tr><td>10925201850296</td><td>283.60754627092274</td><td>-30.434691651985105</td><td>49194053</td><td>10</td><td>8</td><td>12</td><td>22</td><td>21.914673</td><td>21.486193</td><td>21.292873</td><td>21.230522</td><td>0.029493734</td><td>0.020343084</td><td>0.02160682</td><td>0.0363813</td><td>21.692286</td><td>21.204544</td><td>20.833181</td><td>20.984734</td><td>0.04092372</td><td>0.030054333</td><td>0.03039797</td><td>0.050421644</td><td>0.004615876</td><td>0.004219904</td><td>0.0062618125</td><td>0.008158268</td><td>0.001159974</td><td>0.0007875111</td><td>0.00085247436</td><td>0.0015514679</td><td>0.26878583</td><td>0.37355265</td><td>0.051123627</td><td>0.31406018</td><td>0</td><td>0</td><td>0</td><td>0</td><td>21.87676</td><td>21.491587</td><td>21.295218</td><td>21.209085</td><td>0.015268001</td><td>0.014192517</td><td>0.0142775215</td><td>0.01640169</td><td>0.039950386</td><td>0.034609836</td><td>0.03578244</td><td>0.07042548</td><td>21.687386</td><td>21.243801</td><td>20.995579</td><td>20.962286</td><td>0.021147795</td><td>0.018716618</td><td>0.019628841</td><td>0.022088831</td><td>0.04472695</td><td>0.07130611</td><td>0.17570007</td><td>0.15424089</td><td>0.004463921</td><td>0.004520867</td><td>0.0053207036</td><td>0.007480328</td><td>0.0006066178</td><td>0.0005547036</td><td>0.0005684276</td><td>0.00065252226</td><td>0.0012666997</td><td>0.0017934694</td><td>0.0024752119</td><td>0.0032091932</td><td>0</td><td>0</td><td>2</td><td>2</td><td>750540</td><td>750541</td><td>750542</td><td>548028</td><td>35</td><td>35</td><td>35</td><td>28</td><td>0.547217</td><td>0.755747</td><td>0.946486</td><td>0.552881</td><td>120.0</td><td>120.0</td><td>120.0</td><td>180.0</td><td>2.68705</td><td>2.798638</td><td>2.8090138</td><td>2.3132317</td><td>1.6647015</td><td>1.6623379</td><td>1.7631699</td><td>1.8874816</td><td>-29.28897</td><td>-33.346935</td><td>-37.599617</td><td>-47.500694</td><td>0.15554371</td><td>0.4955623</td><td>0.33286354</td><td>0.24404809</td><td>0.18603028</td><td>3.0</td><td>3.0</td><td>3.0</td><td>3.0</td></tr>\n",
       "</table></div>"
      ],
      "text/plain": [
       "<Table length=32279808>\n",
       "QUICK_OBJECT_ID         RA                 DEC         HPX2048  NEPOCHS_G ... EXTENDED_CLASS_G EXTENDED_CLASS_R EXTENDED_CLASS_I EXTENDED_CLASS_Z\n",
       "     int64           float64             float64        int64     int16   ...     float64          float64          float64          float64     \n",
       "--------------- ------------------ ------------------- -------- --------- ... ---------------- ---------------- ---------------- ----------------\n",
       " 10748900000000  3.298231943541636 -12.556033626473209 17595771         2 ...              3.0              1.0              1.0              1.0\n",
       " 10748900000001 3.2953000030678035  -12.57557478781456 17595768         2 ...              3.0              3.0              1.0              1.0\n",
       " 10748900000002 3.3051222775575533 -12.575056026934647 17595768         3 ...              3.0              3.0              1.0              3.0\n",
       " 10748900000003  3.307892368520124 -12.572168221752136 17595768         2 ...              3.0              3.0              1.0              3.0\n",
       " 10748900000004 3.3070784342609896 -12.488869008734099 17595861         1 ...              2.0              1.0              1.0              1.0\n",
       " 10748900000005 3.3079550056661624 -12.552655527782875 17595769         2 ...              3.0              3.0              1.0              3.0\n",
       " 10748900000006 3.3091904141487567   -12.5784986337801 17595768         2 ...              3.0              3.0              1.0              3.0\n",
       " 10748900000007 3.3146743148647215 -12.557201641088724 17595769         2 ...              3.0              1.0              1.0              1.0\n",
       " 10748900000009 3.3237248651612674 -12.472313856676536 17595861         1 ...              3.0              1.0              1.0              1.0\n",
       " 10748900000010  3.327157919891151 -12.522023252393268 17595774         1 ...              3.0              3.0              1.0              1.0\n",
       " 10748900000011 3.3288165734329165 -12.546519467611589 17595772         3 ...              3.0              3.0              3.0              3.0\n",
       "            ...                ...                 ...      ...       ... ...              ...              ...              ...              ...\n",
       " 10925201850211  283.7300253032356 -30.272634762018924 49194246         3 ...              2.0              2.0              0.0              2.0\n",
       " 10925201850231 283.76814341848717 -30.286592673210848 49194244        11 ...              2.0              3.0              3.0              3.0\n",
       " 10925201850237  283.7779391801121 -30.274840647018507 49194245         9 ...              2.0              0.0              1.0              3.0\n",
       " 10925201850241  283.5515700078906 -30.436425102855267 49194054        10 ...              3.0              3.0              3.0              3.0\n",
       " 10925201850252 283.56783278997983  -30.44778392113942 49194052        10 ...              3.0              3.0              2.0              2.0\n",
       " 10925201850257  283.5700164923305 -30.434885312225447 49194054         9 ...              3.0              3.0              3.0              3.0\n",
       " 10925201850259 283.57072427880854 -30.454376168981582 49194052        11 ...              2.0              2.0              3.0              2.0\n",
       " 10925201850262  283.5716445664949  -30.43193909004451 49194054         9 ...              3.0              3.0              3.0              3.0\n",
       " 10925201850264  283.5716123288444 -30.461733498742163 49194052         2 ...              2.0              0.0              0.0              0.0\n",
       " 10925201850287 283.59173855011943     -30.45887447503 49194052         7 ...              3.0              3.0              3.0              3.0\n",
       " 10925201850296 283.60754627092274 -30.434691651985105 49194053        10 ...              3.0              3.0              3.0              3.0"
      ]
     },
     "execution_count": 9,
     "metadata": {},
     "output_type": "execute_result"
    }
   ],
   "source": [
    "dr2_all"
   ]
  },
  {
   "cell_type": "code",
   "execution_count": 10,
   "id": "002ff694-5247-4c5c-a85f-2fb91de03527",
   "metadata": {},
   "outputs": [],
   "source": [
    "#here we will catalog match the first 800 pixels\n",
    "#from DELVE DR2 to all of BOSS, then run the matched \n",
    "#catalog through BPZ and then callibrate\n",
    "\n",
    "from astropy.coordinates import SkyCoord\n",
    "from astropy import units as u\n",
    "boss_cd = SkyCoord(ra=data_boss_good['RA']*u.degree, dec=data_boss_good['DEC']*u.degree)\n",
    "delve_cd = SkyCoord(ra=data['RA']*u.deg, dec=data['DEC']*u.deg)\n",
    "idx, d2d, d3d = boss_cd.match_to_catalog_sky(delve_cd)"
   ]
  },
  {
   "cell_type": "code",
   "execution_count": 11,
   "id": "266fdea8-02f4-4616-81d6-64dbb3eeff16",
   "metadata": {},
   "outputs": [
    {
     "data": {
      "text/plain": [
       "944762"
      ]
     },
     "execution_count": 11,
     "metadata": {},
     "output_type": "execute_result"
    }
   ],
   "source": [
    "len(boss_cd)"
   ]
  },
  {
   "cell_type": "code",
   "execution_count": 12,
   "id": "d7cfb791-cf50-40ac-bf24-9c6205f90079",
   "metadata": {},
   "outputs": [
    {
     "name": "stdout",
     "output_type": "stream",
     "text": [
      "0 0\n"
     ]
    }
   ],
   "source": [
    "good_matches = d2d < 1.0*u.arcsec\n",
    "print(len(np.unique(idx[good_matches])), np.count_nonzero(good_matches))"
   ]
  },
  {
   "cell_type": "code",
   "execution_count": 13,
   "id": "d9425e9e-4e34-4dce-90ef-409ec6a3482e",
   "metadata": {},
   "outputs": [],
   "source": [
    "idx_, d2d_, d3d_ = delve_cd.match_to_catalog_sky(boss_cd)"
   ]
  },
  {
   "cell_type": "code",
   "execution_count": 14,
   "id": "0431cbd8-34b0-45cb-8231-50c207c95796",
   "metadata": {},
   "outputs": [
    {
     "name": "stdout",
     "output_type": "stream",
     "text": [
      "0 0\n"
     ]
    }
   ],
   "source": [
    "good_matches_ = d2d_ < 1.0*u.arcsec\n",
    "print(len(np.unique(idx_[good_matches_])), np.count_nonzero(good_matches_))"
   ]
  },
  {
   "cell_type": "code",
   "execution_count": 15,
   "id": "b13adfdb-6d36-4374-a123-0733773611c0",
   "metadata": {},
   "outputs": [],
   "source": [
    "data_all = astropy.table.hstack([data_boss_good[good_matches], data[idx][good_matches]])"
   ]
  },
  {
   "cell_type": "code",
   "execution_count": 16,
   "id": "ba21d7d0-bc66-47ff-8084-d508565b7690",
   "metadata": {},
   "outputs": [],
   "source": [
    "data_all.write('/data/des90.a/data/raulteix/data/BOSSDELVE/BOSSDELVE14.fits', format='fits')"
   ]
  }
 ],
 "metadata": {
  "kernelspec": {
   "display_name": "Python 3 (ipykernel)",
   "language": "python",
   "name": "python3"
  },
  "language_info": {
   "codemirror_mode": {
    "name": "ipython",
    "version": 3
   },
   "file_extension": ".py",
   "mimetype": "text/x-python",
   "name": "python",
   "nbconvert_exporter": "python",
   "pygments_lexer": "ipython3",
   "version": "3.10.2"
  }
 },
 "nbformat": 4,
 "nbformat_minor": 5
}
