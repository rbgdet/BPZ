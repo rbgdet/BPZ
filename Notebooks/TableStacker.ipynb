{
 "cells": [
  {
   "cell_type": "code",
   "execution_count": 1,
   "id": "769ae524-4dcb-40a7-bf47-1b2cd452c09b",
   "metadata": {
    "tags": []
   },
   "outputs": [],
   "source": [
    "import astropy.table\n",
    "import glob"
   ]
  },
  {
   "cell_type": "markdown",
   "id": "db9943d3-3cb3-4705-892a-f629d9f19d14",
   "metadata": {},
   "source": [
    "## This notebook stacks all astropy tables inside of a directory (or only the ones you want, if you use glob)\n",
    "### It also writes those files into another fits file"
   ]
  },
  {
   "cell_type": "code",
   "execution_count": 2,
   "id": "722e8acf-de41-499e-ab8f-cf9a7b61e0b0",
   "metadata": {},
   "outputs": [],
   "source": [
    "# edit the path for your purposes\n",
    "flist = glob.glob('/data/des90.a/data/raulteix/data/BOSSDELVE/*.fits')"
   ]
  },
  {
   "cell_type": "code",
   "execution_count": 5,
   "id": "e461fa6f-6ca3-4867-9704-a612c23d76da",
   "metadata": {},
   "outputs": [],
   "source": [
    "# purpose of this cell is to stack all datatables\n",
    "\n",
    "# creating list of all tables\n",
    "tables = []\n",
    "for tablename in flist:\n",
    "    tables.append(astropy.table.Table.read(tablename))\n",
    "    \n",
    "# vstacking all tables into one\n",
    "table = astropy.table.vstack(tables)"
   ]
  },
  {
   "cell_type": "code",
   "execution_count": 9,
   "id": "9477df8d-f7c6-4cce-a087-193bc3e86fc0",
   "metadata": {},
   "outputs": [
    {
     "data": {
      "text/plain": [
       "857677"
      ]
     },
     "execution_count": 9,
     "metadata": {},
     "output_type": "execute_result"
    }
   ],
   "source": [
    "# sanity check\n",
    "len(table)"
   ]
  },
  {
   "cell_type": "code",
   "execution_count": 10,
   "id": "b72f4476-514a-4f2c-8314-712152468011",
   "metadata": {},
   "outputs": [],
   "source": [
    "# Now we will write the file\n",
    "# Change the file path for your purposes\n",
    "table.write('/data/des90.a/data/raulteix/data/BOSSDELVE/BOSSDELVE.fits', format='fits')"
   ]
  }
 ],
 "metadata": {
  "kernelspec": {
   "display_name": "Python 3 (ipykernel)",
   "language": "python",
   "name": "python3"
  },
  "language_info": {
   "codemirror_mode": {
    "name": "ipython",
    "version": 3
   },
   "file_extension": ".py",
   "mimetype": "text/x-python",
   "name": "python",
   "nbconvert_exporter": "python",
   "pygments_lexer": "ipython3",
   "version": "3.10.2"
  }
 },
 "nbformat": 4,
 "nbformat_minor": 5
}
